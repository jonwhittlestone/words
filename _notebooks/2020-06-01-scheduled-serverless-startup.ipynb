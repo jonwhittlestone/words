{
 "cells": [
  {
   "cell_type": "markdown",
   "metadata": {},
   "source": [
    "# Scheduled Severless Startup\n",
    "> Using AWS lambda to automate boot up and down of a Digital Ocean droplet with Slack notifications\n",
    "\n",
    "- toc: true \n",
    "- badges: true\n",
    "- comments: true\n",
    "- categories: [aws lambda, automation, python]\n",
    "- image: images/chart-preview.png\n",
    "- show_image:true\n",
    "- hide:true"
   ]
  },
  {
   "cell_type": "markdown",
   "metadata": {},
   "source": [
    "# The Problem\n",
    "\n",
    "As part of the Covid-19 effort, Digital Ocean donated some free credit to us to work on a local food delivery scheme.\n",
    "\n",
    "To make that credit go as far as possible and to minimise power consumption, we'd like to power up and down the servers according to a schedule.\n",
    "\n",
    "\n",
    "# The Solution\n",
    "\n",
    "Esimated cost saving...\n",
    "\n",
    "Here's how to do that with AWS Lambda, with cloudfront events. We iterate on that to use the Serverless Framework.\n",
    "\n",
    "\n",
    "\n",
    "## Prerequisites\n",
    "\n",
    "To follow along, there is a bit of set up involved to launch a Droplet that you can inspect with SSH if you need. \n",
    "\n",
    "You could always just check the [companion repo.](https://github.com/jonwhittlestone/scheduled-serverless-startup)\n",
    "\n",
    "You will need to:\n",
    "\n",
    "\n",
    "* .. have `jq` installed to format JSON responses\n",
    "    * [Download JQ](https://stedolan.github.io/jq/download/) for your OS\n",
    "    \n",
    "    \n",
    "* .. [generate](https://www.digitalocean.com/docs/apis-clis/api/) an access token so you can use the Digital Ocean API.\n",
    "\n",
    "\n",
    "* .. add the access token to your environment\n",
    "\n",
    "    ```\n",
    "    $ export DIGITAL_OCEAN_ACCESS_TOKEN=[your_digital_ocean_token]\n",
    "    ```\n",
    "    \n",
    "* .. have a [running Digital Ocean Droplet](https://www.digitalocean.com/docs/droplets/quickstart/#create-droplets) with Docker installed. \n",
    "\n",
    "    * If you need to create one, use the following [API operation](https://developers.digitalocean.com/documentation/v2/#create-a-new-droplet).\n",
    "        ```\n",
    "        $ curl -X POST \\\n",
    "        -H 'Content-Type: application/json' \\\n",
    "        -H 'Authorization: Bearer '$DIGITAL_OCEAN_ACCESS_TOKEN'' \\\n",
    "        -d '{\"name\":\"scheduled-serverless\",\"region\":\"lon1\",\"size\":\"s-2vcpu-4gb\",\"image\":\"docker-18-04\"}' \\\n",
    "        \"https://api.digitalocean.com/v2/droplets\" \n",
    "        ```\n",
    "    \n",
    "    * .. [generate](https://8gwifi.org/sshfunctions.jsp) and add the private key to your droplet. When generating, Select: `RSA` and `4096` and leave `Passphrase` blank. You may use the following API operation.\n",
    "\n",
    "    * .. add the public key to your environment\n",
    "\n"
   ]
  },
  {
   "cell_type": "code",
   "execution_count": null,
   "metadata": {},
   "outputs": [],
   "source": []
  },
  {
   "cell_type": "markdown",
   "metadata": {},
   "source": [
    "## Shutdown a Droplet with CURL\n",
    "\n",
    "Assuming, your account only has one Digital Ocean droplet, the following CURL statement shows `active` status and the ID\n",
    "\n",
    "    $ curl \\\n",
    "        -H 'Content-Type: application/json' \\\n",
    "        -H 'Authorization: Bearer '$DIGITAL_OCEAN_ACCESS_TOKEN'' \\\n",
    "        \"https://api.digitalocean.com/v2/droplets?name=scheduled-serverless\" | jq '.droplets[0].status, .droplets[1].id'\n",
    "      % Total    % Received % Xferd  Average Speed   Time    Time     Time  Current\n",
    "                                     Dload  Upload   Total   Spent    Left  Speed\n",
    "    100  4137    0  4137    0     0   7925      0 --:--:-- --:--:-- --:--:--  7940\n",
    "    \"active\"\n",
    "    194534673\n",
    "\n",
    "\n",
    "\n",
    "Issuing the following [CURL will](https://developers.digitalocean.com/documentation/v2/#shutdown-a-droplet) shut it down.\n",
    "\n",
    "    curl -X POST \\\n",
    "    -H 'Content-Type: application/json' \\\n",
    "    -H 'Authorization: Bearer '$DIGITAL_OCEAN_ACCESS_TOKEN'' \\\n",
    "    -d '{\"type\":\"shutdown\"}' \\\n",
    "    \"https://api.digitalocean.com/v2/droplets/194534673/actions\"\n",
    "\n",
    "\n",
    "We can then verify  the droplet has been powered down by reissuing the previous command from above. to show the 'active' status.\n",
    "    \n",
    "    ...\n",
    "    \"off\"\n",
    "    194534673\n",
    "\n"
   ]
  },
  {
   "cell_type": "markdown",
   "metadata": {},
   "source": [
    "## Power on a Droplet with CURL\n",
    "\n",
    "The action for powering on follows the same convention.\n",
    "\n",
    "    $ curl -X POST \\\n",
    "        -H 'Content-Type: application/json' \\\n",
    "        -H 'Authorization: Bearer '$DIGITAL_OCEAN_ACCESS_TOKEN'' \\\n",
    "        -d '{\"type\":\"power_on\"}' \\\n",
    "        \"https://api.digitalocean.com/v2/droplets/194534673/actions\"\n",
    "\n",
    "We can check the machine has been powered down:\n",
    "\n",
    "    $ curl \\\n",
    "            -H 'Content-Type: application/json' \\\n",
    "            -H 'Authorization: Bearer '$DIGITAL_OCEAN_ACCESS_TOKEN'' \\\n",
    "        \"https://api.digitalocean.com/v2/droplets?name=scheduled-serverless\" | jq '.droplets[] | {id:.id, name:.name,status: .status}'\n"
   ]
  },
  {
   "cell_type": "markdown",
   "metadata": {},
   "source": [
    "## Requests scripts in AWS Lambda\n",
    "\n",
    "First lets translate these CURL statements into Python."
   ]
  },
  {
   "cell_type": "code",
   "execution_count": 2,
   "metadata": {},
   "outputs": [
    {
     "name": "stdout",
     "output_type": "stream",
     "text": [
      "<Response [401]>\n"
     ]
    }
   ],
   "source": [
    "import requests\n",
    "\n",
    "headers = {\n",
    "    'Content-Type': 'application/json',\n",
    "#     'Authorization': 'Bearer $DIGITAL_OCEAN_ACCESS_TOKEN',\n",
    "    'Authorization': 'Bearer XXX',\n",
    "}\n",
    "\n",
    "params = (\n",
    "    ('page', '1'),\n",
    "    ('per_page', '100'),\n",
    ")\n",
    "\n",
    "response = requests.get('https://api.digitalocean.com/v2/droplets', headers=headers, params=params)\n",
    "\n",
    "\n",
    " \n",
    "#data = '{\"type\":\"shutdown\"}'\n",
    "\n",
    "#response = requests.post('https://api.digitalocean.com/v2/droplets/194534673/actions', headers=headers, data=data)\n",
    "print(response)"
   ]
  },
  {
   "cell_type": "markdown",
   "metadata": {},
   "source": [
    "## Schedule the scripts with Cloudwatch events"
   ]
  },
  {
   "cell_type": "markdown",
   "metadata": {},
   "source": [
    "## Serverless framework"
   ]
  },
  {
   "cell_type": "markdown",
   "metadata": {},
   "source": [
    "## Team notifications with Slack\n",
    "\n",
    "As part of what's become known as 'Chatops', it's useful to update team members and stakeholders about the status of the server.\n",
    "\n",
    "There are a variety of messaging platforms that have APIs such as Telegram or even SMS, but Slack has become one of the most popular."
   ]
  }
 ],
 "metadata": {
  "kernelspec": {
   "display_name": "xpython",
   "language": "python",
   "name": "xpython"
  },
  "language_info": {
   "file_extension": ".py",
   "mimetype": "text/x-python",
   "name": "python",
   "version": "3.7.6"
  }
 },
 "nbformat": 4,
 "nbformat_minor": 4
}
