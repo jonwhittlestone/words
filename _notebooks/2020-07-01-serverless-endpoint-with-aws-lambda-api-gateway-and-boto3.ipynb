{
 "cells": [
  {
   "cell_type": "markdown",
   "metadata": {},
   "source": [
    "# hello world serverless microservice\n",
    "> Using Python SDK with boto3 to create a serverless endpoint with AWS Lambda and AWS API Gateway.\n",
    "\n",
    "- toc: true \n",
    "- badges: false\n",
    "- comments: false\n",
    "- categories: [AWS Lambda,boto3,python, AWS API Gateway]\n",
    "- image: http://i.imgur.com/C2bPqfo.png\n",
    "- show_image: true\n",
    "- hide: false\n",
    "\n"
   ]
  },
  {
   "cell_type": "markdown",
   "metadata": {},
   "source": [
    "# Problem\n",
    "\n",
    "We've been asked for an API that will work at web scale and be cost effective. A serverless API is perfect for this.\n",
    "\n",
    "What are the constituent parts needed to start working with the AWS SDK with Python and steps needed to write and execute a serverless script with AWS Lambda. How can this script be invoked by an HTTP endpoint?"
   ]
  },
  {
   "cell_type": "markdown",
   "metadata": {},
   "source": [
    "# Solution\n",
    "\n",
    "The companion repo consists utility code for deploying the lambda with [boto3](https://boto3.amazonaws.com/v1/documentation/api/latest/reference/services/lambda.html#lambda) as well as detail on the AWS API Gateway service that provides an endpoint to invoke the serverless function.\n",
    "\n",
    "\n",
    "This is the end product; A serverless endpoint. \n",
    "\n",
    "![End product - a simple serverless endpoint](http://i.imgur.com/Ql676IX.png)\n",
    "\n",
    "The [code can be found on Github.](https://github.com/jonwhittlestone/lambdapi).\n",
    "\n",
    "Once cloned, install dependencies, set your AWS account ID as an environment variable and run it.\n",
    "\n",
    "```\n",
    "(venv) (base) $ python src/main.py \n",
    "\n",
    "✅ Remove existing named lambda/api\n",
    "✅ Create the lambda\n",
    "✅ Deploy the lambda\n",
    "✅ Remove any existing API\n",
    "✅ Create API\n",
    "✅ Deploy API\n",
    "✅ Test API\n",
    "SERVERLESS ENDPOINT RESPONSE from https://qvaik2un06.execute-api.eu-west-2.amazonaws.com/hello-world : \n",
    "b'{\"querystring_params:\": {}, \"err\": null, \"message\": \"Hello Serverless World\"}'\n",
    "```"
   ]
  },
  {
   "cell_type": "markdown",
   "metadata": {},
   "source": [
    "## Setup: Creating the Lambda function and deploying\n",
    "\n",
    "### Python module structure\n",
    "\n",
    "Like this\n",
    "\n",
    "    lambdapi\n",
    "    ├── src \n",
    "    │   ├── __init__.py\n",
    "    │   ├── settings.py         # constants like AWS account\n",
    "    │   ├── main.py             # run me for instant results\n",
    "    |   └─── python_lambdas                   \n",
    "    |   |   └─── hello_world.py # serverless python function\n",
    "    │   ├── api_gateway.py      # boto3 for api_gateway\n",
    "    │   ├── lambda_functions.py # boto3 lambda\n",
    "    │   └── helpers.py          # file operations\n",
    "    └── ..."
   ]
  },
  {
   "cell_type": "markdown",
   "metadata": {},
   "source": [
    "### AWS Permissions with IAM\n",
    "\n",
    "IAM Resources used - policies and roles.\n",
    "\n",
    "IAM Policies define the effect, actions, resources and optional conditions in a JSON document.\n",
    "\n",
    "An IAM user is a person or service that interacts with AWS with their own access to the management console. A user can have a policy attached to them. In this case it is more appropriate to grant policy access with an IAM role.\n",
    "When assuming an IAM role (see Trusted Entity), access to a service can be granted to a user without having to give them new keys as the user can use temporary security tokens.\n",
    "\n",
    "Create an IAM Lambda access policy for IAM using an IAM client that you create. \n",
    "\n",
    "The access definition is provided in an `s3_access_policy_document`\n",
    "\n",
    "* JSON dictionary \n",
    "* Action key `Statement` with \n",
    "    * all S3 permissions\n",
    "    * Cloudwatch to create log groups and streams for monitoring of the lamdba events\n",
    "    \n",
    "After creating a policy, create role and attach it to an execution role by assuming the role."
   ]
  },
  {
   "cell_type": "markdown",
   "metadata": {},
   "source": [
    "### Verifying the Lambda was created on AWS Console\n",
    "\n",
    "By way of sanity check, we can verify the Lambda function has been uploaded in the AWS Console.\n",
    "\n",
    "For the appropriate region, you may see the function, memory, timeout and our chosen permissions.\n",
    "\n",
    "![Animation of Console](https://i.imgur.com/RoOfCJt.gif)"
   ]
  },
  {
   "cell_type": "code",
   "execution_count": null,
   "metadata": {},
   "outputs": [],
   "source": [
    "## Testing the endpoint\n",
    "\n",
    "## Parting Note\n",
    "\n",
    "This brief walkthrough essentially achieves the same solution as the AWS Serverless Application model 'Hello World' tutorial."
   ]
  },
  {
   "cell_type": "markdown",
   "metadata": {},
   "source": [
    "# Alternative Solution\n",
    "\n",
    "The [AWS Serverless Application Model](https://docs.aws.amazon.com/serverless-application-model/latest/developerguide/what-is-sam.html) is a framework that allows you to build and deploy serverless applications.\n",
    "\n",
    "You may declare the lambda functions to be used and additional resources like APIs and database in a YAML template. It uses an implementation of AWS CloudFormation to define these resources provides myriad other [benefits](https://docs.aws.amazon.com/serverless-application-model/latest/developerguide/what-is-sam.html#benefits-of-using-sam).\n",
    "\n",
    "The [AWS Hello World SAM tutorial](https://docs.aws.amazon.com/serverless-application-model/latest/developerguide/serverless-getting-started-hello-world.html) covers what we outlined manually above and also shows how to run the Lambda and API route locally and remove the CloudFormation stack to clean up.\n",
    "\n",
    "However, when dissecting software to understand a technique, it's always useful to strip away layers of abstraction."
   ]
  },
  {
   "cell_type": "markdown",
   "metadata": {},
   "source": [
    "----\n",
    "## Resources used: with thanks 💚\n",
    "\n",
    "* Niyazi Erdogan's O'Reilly course - Build and Deploy Lambda functions AWS and Python [Videos](https://learning.oreilly.com/videos/build-and-deploy/9781838557751) \n",
    "\n",
    "* Building Lambda Functions with Python [AWS docs](https://docs.aws.amazon.com/lambda/latest/dg/lambda-python.html)\n",
    "* boto3 AWS Python SDK [lambda docs](https://boto3.amazonaws.com/v1/documentation/api/latest/reference/services/lambda.html#lambda)\n",
    "* [AWS Lambda Execution role](https://docs.aws.amazon.com/lambda/latest/dg/lambda-intro-execution-role.html)\n",
    "* Using AWS Lambda with Amazon API Gateway [AWS Tutorial](https://docs.aws.amazon.com/lambda/latest/dg/services-apigateway-tutorial.html)\n",
    "* Setting up API Gateway and integrating it with Lambda proxy in Richard T. Freeman's serverless microservice course [O'Reilly Videos](https://learning.oreilly.com/videos/building-a-scalable/9781788622318/9781788622318-video4_3)\n",
    "* AWS SAM Hello World Tutorial - [AWS Docs](https://docs.aws.amazon.com/serverless-application-model/latest/developerguide/serverless-getting-started-hello-world.html)\n"
   ]
  },
  {
   "cell_type": "code",
   "execution_count": null,
   "metadata": {},
   "outputs": [],
   "source": []
  }
 ],
 "metadata": {
  "kernelspec": {
   "display_name": "xpython",
   "language": "python",
   "name": "xpython"
  },
  "language_info": {
   "file_extension": ".py",
   "mimetype": "text/x-python",
   "name": "python",
   "version": "3.7.6"
  }
 },
 "nbformat": 4,
 "nbformat_minor": 4
}