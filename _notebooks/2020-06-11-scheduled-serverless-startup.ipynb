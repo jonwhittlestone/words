{
 "cells": [
  {
   "cell_type": "markdown",
   "metadata": {},
   "source": [
    "# Scheduled Severless Startup\n",
    "> Using AWS lambda to automate boot up and down of a Digital Ocean droplet with Slack notifications\n",
    "\n",
    "- toc: true \n",
    "- badges: true\n",
    "- comments: true\n",
    "- categories: [AWS Lambda, automation, python]\n",
    "- image: images/chart-preview.png\n",
    "- show_image:true\n",
    "- hide: true"
   ]
  },
  {
   "cell_type": "markdown",
   "metadata": {},
   "source": [
    "# The Problem\n",
    "\n",
    "As part of the Covid-19 effort, Digital Ocean donated some free credit to us to work on a local food delivery scheme.\n",
    "\n",
    "To make that credit go as far as possible and to minimise power consumption, we'd like to power up and down the servers according to a schedule.\n",
    "\n",
    "\n",
    "# The Solution\n",
    "\n",
    "Esimated cost saving...\n",
    "\n",
    "Here's how to do that with AWS Lambda, with cloudfront events. We iterate on that to use the Serverless Framework.\n",
    "\n",
    "**TLDR; Have a look at the [companion repo.](https://github.com/jonwhittlestone/scheduled-serverless-startup). It contains an example dockerized web app and the shell scripts for starting containers and creating the service.**\n",
    "\n",
    "This article covers how to automate with a Digital Ocean droplet so to follow along with the code, you can create one using the example from [a previous article](http://words.howapped.com/systemd/automation/2020/06/01/automatically-restart-docker-after-reboot-with-service.html#cURL-to-create-the-droplet).\n",
    "\n",
    "We will examine the cURL statements, convert those into Python. We can use AWS Lambda to execute the Python in a serverless environment. Then, the AWS lambda functions can be triggered by Cloudwatch events to a schedule so machines can be brought online only during operating hours.\n",
    "\n",
    "We can notify any interested parties using Microsoft Teams - a topic for a subsequent post.\n",
    "\n",
    "## Prerequisites\n",
    "\n",
    "You can always check the [companion repo.](https://github.com/jonwhittlestone/scheduled-serverless-startup)\n",
    "\n",
    "You will need to:\n",
    "\n",
    "\n",
    "* .. have `jq` installed to format JSON responses\n",
    "    * [Download JQ](https://stedolan.github.io/jq/download/) for your OS\n",
    "    \n",
    "    \n",
    "* .. have a server on which a dockerized web app will start automatically when the server is restarted\n",
    "    * See previous article on how to [create one with DigitalOcean](http://words.howapped.com/systemd/automation/2020/06/01/automatically-restart-docker-after-reboot-with-service.html#cURL-to-create-the-droplet).\n",
    "    \n",
    "    \n",
    "* .. have [installed Boto3 with your AWS account credentials](https://boto3.amazonaws.com/v1/documentation/api/latest/guide/quickstart.html#installation) so we can work with the AWS Python SDK.\n"
   ]
  },
  {
   "cell_type": "markdown",
   "metadata": {},
   "source": [
    "## cURL statements to boot down and up\n",
    "\n",
    "As covered in a [previous post](http://words.howapped.com/systemd/automation/2020/06/01/automatically-restart-docker-after-reboot-with-service.html), our web app will restart when rebooted using a systemd service.\n",
    "\n",
    "Rather than ssh or the cloud provider's control panel, the server can be started and stopped using cURL.\n",
    "\n",
    "In the case of DigitalOcean:\n",
    "\n",
    "Find out the ID of the server:\n",
    "\n",
    "``` \n",
    "$ curl \\\n",
    "        -H 'Content-Type: application/json' \\\n",
    "        -H 'Authorization: Bearer '$DIGITAL_OCEAN_ACCESS_TOKEN'' \\\n",
    "    \"https://api.digitalocean.com/v2/droplets?name=scheduled-serverless\" | jq '.droplets[] | {id:.id, name:.name, status: .status}'\n",
    "\n",
    "\n",
    "```\n",
    "\n",
    "The output gives us the ID\n",
    "\n",
    "```\n",
    "{\n",
    "    ...\n",
    "},\n",
    "{\n",
    "  \"id\": 195786885,\n",
    "  \"name\": \"scheduled-serverless\",\n",
    "  \"status\": \"active\"\n",
    "}\n",
    "\n",
    "```\n",
    "\n",
    "And then power it down:\n",
    "\n",
    "```\n",
    "$ curl -X POST \\\n",
    "    -H 'Content-Type: application/json' \\\n",
    "    -H 'Authorization: Bearer '$DIGITAL_OCEAN_ACCESS_TOKEN'' \\\n",
    "    -d '{\"type\":\"power_off\"}' \\\n",
    "    \"https://api.digitalocean.com/v2/droplets/195786885/actions\" | jq '.[] | {id:.id, status:.status, type:.type}'\n",
    "```\n",
    "\n",
    "Which tells us it's in progress\n",
    "\n",
    "```\n",
    "{\n",
    "  \"id\": 955320153,\n",
    "  \"status\": \"in-progress\",\n",
    "  \"type\": \"power_off\"\n",
    "}\n",
    "\n",
    "```\n",
    "\n",
    "The equivalent cURL for powering on the server is virtual identical\n",
    "\n",
    "```\n",
    "$ curl -X POST \\\n",
    "    -H 'Content-Type: application/json' \\\n",
    "    -H 'Authorization: Bearer '$DIGITAL_OCEAN_ACCESS_TOKEN'' \\\n",
    "    -d '{\"type\":\"power_on\"}' \\\n",
    "    \"https://api.digitalocean.com/v2/droplets/195786885/actions\" | jq '.[] | {id:.id, status:.status, type:.type}'\n",
    "```\n",
    "\n",
    "The web app from the example is running on port 80. We know the server's IP address by referring to the control panel. Let's confirm that the service is running by verifying the output in a browser.\n",
    "\n",
    "![](https://raw.githubusercontent.com/jonwhittlestone/words/master/images/do_ip.png)"
   ]
  },
  {
   "cell_type": "markdown",
   "metadata": {},
   "source": [
    "## Requests scripts in AWS Lambda\n",
    "\n",
    "### The cURL statements in Python\n",
    "\n",
    "First, get the ID of the droplet."
   ]
  },
  {
   "cell_type": "code",
   "execution_count": 1,
   "metadata": {},
   "outputs": [
    {
     "name": "stdout",
     "output_type": "stream",
     "text": [
      "Droplet ID: 195786885\n"
     ]
    }
   ],
   "source": [
    "import os\n",
    "import sys\n",
    "import requests\n",
    "\n",
    "TOKEN = os.getenv('DIGITAL_OCEAN_ACCESS_TOKEN','')\n",
    "DROPLET_NAME = 'scheduled-serverless'\n",
    "\n",
    "headers = {\n",
    "    'Content-Type': 'application/json',\n",
    "    'Authorization': f'Bearer {TOKEN}',\n",
    "}\n",
    "\n",
    "if TOKEN == '':\n",
    "    sys.exit('Your environment should have the `DIGITAL_OCEAN_ACCESS_TOKEN exported.')\n",
    "\n",
    "def get_droplet():\n",
    "    response = requests.get('https://api.digitalocean.com/v2/droplets', headers=headers, params={})\n",
    "    return [d for d in response.json().get('droplets',{}) if d.get('name','') == DROPLET_NAME][0]\n",
    "\n",
    "DROPLET = get_droplet()\n",
    "print(f'Droplet ID: {DROPLET.get(\"id\")}')"
   ]
  },
  {
   "cell_type": "markdown",
   "metadata": {},
   "source": [
    "Now we have the ID, let's define the functions for bringing the servers down and back up."
   ]
  },
  {
   "cell_type": "code",
   "execution_count": 2,
   "metadata": {},
   "outputs": [
    {
     "name": "stdout",
     "output_type": "stream",
     "text": [
      "power_off\n",
      "in-progress\n",
      "----\n"
     ]
    }
   ],
   "source": [
    "def power_off() -> dict:\n",
    "    data = '{\"type\":\"power_off\"}'\n",
    "    url = f'https://api.digitalocean.com/v2/droplets/{DROPLET.get(\"id\")}/actions'\n",
    "    response = requests.post(url, headers=headers, data=data)\n",
    "    return response.json()\n",
    "\n",
    "def power_on() -> dict:\n",
    "    data = '{\"type\":\"power_on\"}'\n",
    "    url = f'https://api.digitalocean.com/v2/droplets/{DROPLET.get(\"id\")}/actions'\n",
    "    response = requests.post(url, headers=headers, data=data)\n",
    "    return response.json()\n",
    "\n",
    "action_resp = power_off()\n",
    "print(action_resp['action']['type'])\n",
    "print(action_resp['action']['status'])\n",
    "\n",
    "print('----')\n",
    "\n",
    "# action_resp = power_on()\n",
    "# print(action_resp['action']['type'])\n",
    "# print(action_resp['action']['status'])"
   ]
  },
  {
   "cell_type": "markdown",
   "metadata": {},
   "source": [
    "### Running the scripts in AWS Lambda\n",
    "Let's translate the cURL statements into Python.\n",
    "\n"
   ]
  },
  {
   "cell_type": "markdown",
   "metadata": {},
   "source": [
    "## Schedule the scripts with Cloudwatch events"
   ]
  },
  {
   "cell_type": "markdown",
   "metadata": {},
   "source": [
    "## Serverless framework"
   ]
  },
  {
   "cell_type": "markdown",
   "metadata": {},
   "source": [
    "## Quality of Life enhancements\n",
    "\n",
    "When the target service is unavailable, it's quite unfriendly to show a blank 500 screen. A subsequent post outlines a solution for a forwarding service which can display an Open/Closed for business page to the user, with 'Opening times'\n",
    "\n",
    "As part of what's become known as 'Chatops', it's useful to update team members and stakeholders about the status of the server. A future addition will be to use the Microsoft Teams API to notify interested parties.\n",
    "\n"
   ]
  },
  {
   "cell_type": "markdown",
   "metadata": {},
   "source": [
    "# Resources\n",
    "\n",
    "* Curl converter - [[github](https://github.com/NickCarneiro/curlconverter)]\n",
    "    \n",
    "    convert curl commands to Python, JavaScript, PHP, R, Go, Rust, Dart, JSON, Ansible, Elixir"
   ]
  },
  {
   "cell_type": "code",
   "execution_count": null,
   "metadata": {},
   "outputs": [],
   "source": []
  }
 ],
 "metadata": {
  "kernelspec": {
   "display_name": "xpython",
   "language": "python",
   "name": "xpython"
  },
  "language_info": {
   "file_extension": ".py",
   "mimetype": "text/x-python",
   "name": "python",
   "version": "3.7.6"
  }
 },
 "nbformat": 4,
 "nbformat_minor": 4
}